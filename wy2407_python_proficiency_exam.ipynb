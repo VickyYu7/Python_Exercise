{
 "cells": [
  {
   "cell_type": "markdown",
   "metadata": {
    "deletable": false,
    "editable": false,
    "nbgrader": {
     "cell_type": "markdown",
     "checksum": "119e2278df938006976628353273438d",
     "grade": false,
     "grade_id": "prob1_description",
     "locked": true,
     "schema_version": 3,
     "solution": false
    }
   },
   "source": [
    "<h1>Problem 1</h1>\n",
    "<p>\n",
    "    <b>This problem tests your basic understanding of loops, lists, and appending to a list</b>\n",
    "</p>\n",
    "A python list contains daily sales (in dollars) at a store over the last n days. Write a python function that returns a list of tuples where each tuple is the day number and the sales value for all instances where the sales were greater than 100.00\n",
    "\n",
    "Test your program with the following example:\n",
    "\n",
    "<pre>\n",
    "sales = [102.3,98.3,135.64,107.12,88.43,198.16]\n",
    "</pre>\n",
    "Your program should return:\n",
    "\n",
    "<pre>\n",
    "[(0, 102.3), (2, 135.64), (3, 107.12), (5, 198.16)]\n",
    "</pre>\n"
   ]
  },
  {
   "cell_type": "code",
   "execution_count": 63,
   "metadata": {
    "deletable": false,
    "nbgrader": {
     "cell_type": "code",
     "checksum": "324a7f783efb89d4fd08f27135c23d4b",
     "grade": false,
     "grade_id": "prob1_solution",
     "locked": false,
     "schema_version": 3,
     "solution": true
    },
    "tags": []
   },
   "outputs": [],
   "source": [
    "def high_sales(sales):\n",
    "    # YOUR CODE HERE\n",
    "    result = []\n",
    "    for i, sal in enumerate(sales):\n",
    "        if sal > 100.00:\n",
    "            result.append((i,sal))\n",
    "    return result\n",
    "\n",
    "\n",
    "    # raise NotImplementedError()"
   ]
  },
  {
   "cell_type": "code",
   "execution_count": 64,
   "metadata": {
    "deletable": false,
    "editable": false,
    "nbgrader": {
     "cell_type": "code",
     "checksum": "3014e340819d03652fed0ae4ecf3e99c",
     "grade": true,
     "grade_id": "prob1_public_test1",
     "locked": true,
     "points": 0.25,
     "schema_version": 3,
     "solution": false,
     "task": false
    },
    "tags": []
   },
   "outputs": [],
   "source": [
    "# Test case 1\n",
    "sales = [102.3,98.3,135.64,107.12,88.43,198.16]\n",
    "assert high_sales(sales) == [(0, 102.3), (2, 135.64), (3, 107.12), (5, 198.16)], high_sales(sales)"
   ]
  },
  {
   "cell_type": "code",
   "execution_count": null,
   "metadata": {
    "deletable": false,
    "editable": false,
    "nbgrader": {
     "cell_type": "code",
     "checksum": "b740208f1e908e377db972a348c0dba4",
     "grade": true,
     "grade_id": "prob1_test1",
     "locked": true,
     "points": 0.75,
     "schema_version": 3,
     "solution": false,
     "task": false
    },
    "tags": []
   },
   "outputs": [],
   "source": []
  },
  {
   "cell_type": "markdown",
   "metadata": {
    "deletable": false,
    "editable": false,
    "nbgrader": {
     "cell_type": "markdown",
     "checksum": "d67edf01065d857ada2b4a953857c5bc",
     "grade": false,
     "grade_id": "prob2_description",
     "locked": true,
     "schema_version": 3,
     "solution": false
    }
   },
   "source": [
    "<h1>Problem 2</h1>\n",
    "\n",
    "ParapetShop keeps track of its inventory in a dictionary keyed by product. Products can be in multiple locations so the value associated with each key is another dictionary with store name’s as\n",
    "the key and product quantity as the value. \n",
    "\n",
    "For example:\n",
    "\n",
    "<pre>\n",
    "inventory = {‘widgets’:{‘paramus’:200,’yonkers’:400,’chappaqua’:323},\n",
    "{‘spam’:{‘paramus’:450,’yonkers’:800,’chappaqua’:1287}}\n",
    "</pre>\n",
    "Write a function that takes an inventory list and an item name as input and returns the total quantity of that item across all stores. If the item is not in the store, the function should return 0. For example:\n",
    "\n",
    "<pre>\n",
    "total_quantity(inventory,\"widgets\")\n",
    "</pre>\n",
    "should return:\n",
    "\n",
    "<pre>\n",
    "923\n",
    "</pre>\n",
    "and\n",
    "<pre>\n",
    "total_quantity(inventory,\"eggs\")\n",
    "</pre>\n",
    "should return:\n",
    "\n",
    "<pre>\n",
    "0\n",
    "</pre>"
   ]
  },
  {
   "cell_type": "code",
   "execution_count": 14,
   "metadata": {
    "deletable": false,
    "nbgrader": {
     "cell_type": "code",
     "checksum": "072c347d996b66c56150a57f50980df8",
     "grade": false,
     "grade_id": "prob2_solution",
     "locked": false,
     "schema_version": 3,
     "solution": true
    }
   },
   "outputs": [],
   "source": [
    "def total_quantity(inventory,item):\n",
    "    # YOUR CODE HERE\n",
    "    for key, val in inventory.items():\n",
    "        if key == item:\n",
    "            return sum(val.values())\n",
    "    return 0\n",
    "    # raise NotImplementedError()"
   ]
  },
  {
   "cell_type": "code",
   "execution_count": 15,
   "metadata": {
    "deletable": false,
    "editable": false,
    "nbgrader": {
     "cell_type": "code",
     "checksum": "0534ca934c0ff031db6c81fea4dcbb39",
     "grade": true,
     "grade_id": "prob2_public_test1",
     "locked": true,
     "points": 0.25,
     "schema_version": 3,
     "solution": false,
     "task": false
    },
    "tags": []
   },
   "outputs": [],
   "source": [
    "# Test case 1\n",
    "inventory = {'widgets':{'paramus':200,'yonkers':400,'chappaqua':323},\n",
    "             'spam':{'paramus':450,'yonkers':800,'chappaqua':1287}}\n",
    "\n",
    "assert total_quantity(inventory,\"widgets\") == 923, total_quantity(inventory,\"widgets\")"
   ]
  },
  {
   "cell_type": "code",
   "execution_count": 16,
   "metadata": {
    "deletable": false,
    "editable": false,
    "nbgrader": {
     "cell_type": "code",
     "checksum": "79a75e7fffd7355a0c47c6cc4a328b93",
     "grade": true,
     "grade_id": "prob2_public_test2",
     "locked": true,
     "points": 0.25,
     "schema_version": 3,
     "solution": false,
     "task": false
    },
    "tags": []
   },
   "outputs": [],
   "source": [
    "# Test case 2\n",
    "assert total_quantity(inventory,\"eggs\") == 0, total_quantity(inventory,\"eggs\")"
   ]
  },
  {
   "cell_type": "code",
   "execution_count": null,
   "metadata": {
    "deletable": false,
    "editable": false,
    "nbgrader": {
     "cell_type": "code",
     "checksum": "cb7363bde6177a5cfc1040544f7d606f",
     "grade": true,
     "grade_id": "prob2_test1",
     "locked": true,
     "points": 0.5,
     "schema_version": 3,
     "solution": false,
     "task": false
    },
    "tags": []
   },
   "outputs": [],
   "source": []
  },
  {
   "cell_type": "markdown",
   "metadata": {
    "deletable": false,
    "editable": false,
    "nbgrader": {
     "cell_type": "markdown",
     "checksum": "f8c8ae62af91e3330955c2ef9f29392c",
     "grade": false,
     "grade_id": "prob3_description",
     "locked": true,
     "schema_version": 3,
     "solution": false
    }
   },
   "source": [
    "<h1>Problem 3: Counting data</h1>\n",
    "<b>This program tests your understanding of string manipulation and python dictionaries</b>\n",
    "\n",
    "A website grabs biographical data from multiple web pages and collects relevant data in a python string. Each biographical entry is in a separate line, the lines are numbered (1,2,3,...), and data is separated by periods. Attributes are formatted in attribute_name: attribute_value pairs. An example of the string is below.\n",
    "\n",
    "Write a function <span style=\"color:blue\">summarize</span> that takes this text string and an attribute as an argument and returns a dictionary that contains the count of each value of the attribute. \n",
    "\n",
    "<h3>Example:</h3>\n",
    "<pre>\n",
    "sample_text = \"\"\"1. John Smith. School: Harvard. Year: 2010. Major: History.\n",
    "2. Name: Jill Smythe. School: Columbia. Year: 2010. Major: Psychology.\n",
    "3. Name: Qing Sheng. School: Columbia. Year: 2010. Major: History.\n",
    "4. Name: Abhishek Malhotra. School: Columbia. Year: 2015. Major: History.\n",
    "5. Name: Pablo Balsera. School: Yale. Year: 2012. Major: Analytics.\n",
    "6. Name: Overbrook Bha. School: Harvard. Year: 2011. Major: Analytics.\n",
    "7. Name: Lidiya Guriyeva. School: Columbia. Year: 2010. Major: History.\n",
    "8. Name: Cynthia Murphy. School: Columbia. Year: 2010. Major: History.\"\"\"\n",
    "</pre>\n",
    "\n",
    "the function call:\n",
    "\n",
    "<pre>\n",
    "summarize(sample_text,\"School\")\n",
    "</pre>\n",
    "\n",
    "should return:\n",
    "<pre>\n",
    "{'Harvard': 2, 'Columbia': 5, 'Yale': 1}\n",
    "</pre>\n",
    "\n",
    "and \n",
    "<span style=\"color:blue\">summarize(sample_text,\"Year\")</span>\n",
    "\n",
    "should return:\n",
    "<pre>\n",
    "{'2010': 5, '2015': 1, '2012': 1, '2011': 1}\n",
    "</pre>\n",
    "\n",
    "There are multiple ways to do this but here's a list of useful python functions:\n",
    "<li><a href=\"https://python-reference.readthedocs.io/en/latest/docs/str/split.html\">split a string</a> use this to create a list of bio entries (\"\\n\" is the end of line character)</li>\n",
    "<li><a href=\"https://www.w3schools.com/python/ref_string_find.asp\">find</a> finds the location of the first instance of a substring inside a string. Use this to find the starting location of the attribute and the location of the period following the end of the value of the attribute</li>\n",
    "<li><a href=\"https://pymotw.com/2/collections/counter.html\">Counter</a> use this to get the count of each instance. Either this, or some combination of an empty dict and <a href=\"https://www.w3schools.com/python/ref_dictionary_get.asp\">get</a>. Or whatever works for you!</li>\n",
    "<li>make sure your function returns a dictionary object</li>"
   ]
  },
  {
   "cell_type": "code",
   "execution_count": 61,
   "metadata": {
    "deletable": false,
    "nbgrader": {
     "cell_type": "code",
     "checksum": "e5636e84e40cd1e2f931e13c00fa3a50",
     "grade": false,
     "grade_id": "prob3_solution",
     "locked": false,
     "schema_version": 3,
     "solution": true
    }
   },
   "outputs": [],
   "source": [
    "from collections import Counter\n",
    "\n",
    "def summarize(sample_text,attribute):\n",
    "    # YOUR CODE HERE\n",
    "    to_count = []\n",
    "    start_point = len(attribute) + 3\n",
    "    text = sample_text.split('.')\n",
    "    for char in text:\n",
    "        if attribute in char:\n",
    "            to_count.append(char[start_point:])\n",
    "    return dict(Counter(to_count))\n",
    "    # raise NotImplementedError()"
   ]
  },
  {
   "cell_type": "code",
   "execution_count": 62,
   "metadata": {
    "deletable": false,
    "editable": false,
    "nbgrader": {
     "cell_type": "code",
     "checksum": "663b31121bb0a1656f70c06184e0c3c9",
     "grade": true,
     "grade_id": "prob3_public_test1",
     "locked": true,
     "points": 0.11,
     "schema_version": 3,
     "solution": false,
     "task": false
    },
    "tags": []
   },
   "outputs": [],
   "source": [
    "#Test case 1\n",
    "sample_text = \"\"\"1. Name: John Smith. School: Harvard. Year: 2010. Major: History.\n",
    "2. Name: Jill Smythe. School: Columbia. Year: 2010. Major: Psychology.\n",
    "3. Name: Qing Sheng. School: Columbia. Year: 2010. Major: History.\n",
    "4. Name: Abhishek Malhotra. School: Columbia. Year: 2015. Major: History.\n",
    "5. Name: Pablo Balsera. School: Yale. Year: 2012. Major: Analytics.\n",
    "6. Name: Overbrook Bha. School: Harvard. Year: 2011. Major: Analytics.\n",
    "7. Name: Lidiya Guriyeva. School: Columbia. Year: 2010. Major: History.\n",
    "8. Name: Cynthia Murphy. School: Columbia. Year: 2010. Major: History.\"\"\"\n",
    "\n",
    "assert summarize(sample_text,\"School\") == {\"Harvard\" : 2, \"Columbia\" : 5, \"Yale\" : 1}, summarize(sample_text,\"School\")"
   ]
  },
  {
   "cell_type": "code",
   "execution_count": 60,
   "metadata": {
    "deletable": false,
    "editable": false,
    "nbgrader": {
     "cell_type": "code",
     "checksum": "6006eedcc7562b42e9471dd14b28c9b0",
     "grade": true,
     "grade_id": "prob3_public_test2",
     "locked": true,
     "points": 0.11,
     "schema_version": 3,
     "solution": false,
     "task": false
    },
    "tags": []
   },
   "outputs": [],
   "source": [
    "#Test case 2\n",
    "assert summarize(sample_text,\"Year\") == {\"2010\" : 5, \"2015\" : 1, \"2012\": 1, \"2011\" : 1}, summarize(sample_text,\"Year\") "
   ]
  },
  {
   "cell_type": "code",
   "execution_count": 65,
   "metadata": {
    "deletable": false,
    "editable": false,
    "nbgrader": {
     "cell_type": "code",
     "checksum": "e0e7b3a76010b07d4c334f52972a40b6",
     "grade": true,
     "grade_id": "prob3_test1",
     "locked": true,
     "points": 0.26,
     "schema_version": 3,
     "solution": false,
     "task": false
    },
    "tags": []
   },
   "outputs": [],
   "source": []
  },
  {
   "cell_type": "code",
   "execution_count": null,
   "metadata": {
    "deletable": false,
    "editable": false,
    "nbgrader": {
     "cell_type": "code",
     "checksum": "2d584a1d126bcc9e1dc593523227c80d",
     "grade": true,
     "grade_id": "prob3_test2",
     "locked": true,
     "points": 0.26,
     "schema_version": 3,
     "solution": false,
     "task": false
    },
    "tags": []
   },
   "outputs": [],
   "source": []
  },
  {
   "cell_type": "code",
   "execution_count": null,
   "metadata": {
    "deletable": false,
    "editable": false,
    "nbgrader": {
     "cell_type": "code",
     "checksum": "9ec8377c2addf6e7ac3c9cc5939d65d1",
     "grade": true,
     "grade_id": "prob3_test3",
     "locked": true,
     "points": 0.26,
     "schema_version": 3,
     "solution": false,
     "task": false
    },
    "tags": []
   },
   "outputs": [],
   "source": []
  },
  {
   "cell_type": "markdown",
   "metadata": {
    "deletable": false,
    "editable": false,
    "nbgrader": {
     "cell_type": "markdown",
     "checksum": "bcfd748f5eaf4b53c49ff2536ddf15b7",
     "grade": false,
     "grade_id": "prob4_description",
     "locked": true,
     "schema_version": 3,
     "solution": false
    }
   },
   "source": [
    "<h1>Problem 4: Functions and function conditions</h1>\n",
    "<p>\n",
    "A web page presents summary information from data in a list (see example below for the format of the list). Write a function <span style=\"color:blue\">summary_stats</span> that returns a summary statistic from this list. The function takes four arguments: the list, a function that calculates the summary statistic, the column number (0,..,n-1) on which to calculate the statistic, and a boolean function that can be applied to the list to select elements. \n",
    "\n",
    "<h3>Example</h3>\n",
    "<pre>\n",
    "sample_data = [(\"John Smith\",\"M\", 430000),\n",
    "               (\"Jill Smythe\",\"F\", 250000),\n",
    "                (\"Qing Sheng\",\"F\", 323122),\n",
    "                (\"Abhishek Malhotra\",\"M\", 782122),\n",
    "                (\"Pablo Balsera\",\"M\",  600233),\n",
    "                (\"Overbrook Bha\",\"M\", 134112),\n",
    "                (\"Lidiya Guriyeva\",\"F\", 430000),\n",
    "                (\"Cynthia Murphy\",\"F\", 430000),]\n",
    "</pre>\n",
    "\n",
    "the function call (return the mean of column 2 for cases where col 1 has the value \"F\"): \n",
    "\n",
    "<pre>\n",
    "summary_stats(sample_data,statistics.mean,2,lambda x: x[1]==\"F\")\n",
    "</pre>\n",
    "\n",
    "should return:\n",
    "\n",
    "<pre>\n",
    "358280.5\n",
    "</pre>\n",
    "\n",
    "AND, the function call (return the lowest value in column 2)\n",
    "\n",
    "<pre>\n",
    "summary_stats(sample_data,min,2)\n",
    "</pre>\n",
    "\n",
    "should return:\n",
    "\n",
    "<pre>\n",
    "134112\n",
    "</pre>\n",
    "\n",
    "<h3>Notes:</h3>\n",
    "<li><span style=\"color:blue\">lambda functions</span> are anonymous (unnamed) python functions (see: <a href=\"https://www.w3schools.com/python/python_lambda.asp\">https://www.w3schools.com/python/python_lambda.asp</a> or <a href=\"https://realpython.com/python-lambda/\">https://realpython.com/python-lambda/</a>)</li>\n",
    "<li><span style=\"color:blue\">boolean functions</span> are functions that return True or False</li>\n",
    "<li><a href=\"https://www.w3schools.com/python/ref_func_filter.asp\">filter</a> is a python standard library function that takes two arguments: a boolean condition (or a boolean lambda function) and a list. Filter applies the condition to each element in the list and returns only those elements that satisfy the condition. Use filter to apply the condition passed to the summary stats function, and then apply the statistic function to the result. Return the result</li>\n",
    "<li>Your code MUST use a default value for the boolean condition function that selects all elements in the list (otherwise, the lowest value example will not work!)</li>\n",
    "\n",
    "    \n",
    "\n",
    "\n"
   ]
  },
  {
   "cell_type": "code",
   "execution_count": 30,
   "metadata": {
    "deletable": false,
    "nbgrader": {
     "cell_type": "code",
     "checksum": "6ff03cce63107763f3c787d429f99da3",
     "grade": false,
     "grade_id": "prob4_solution",
     "locked": false,
     "schema_version": 3,
     "solution": true
    }
   },
   "outputs": [],
   "source": [
    "def summary_stats(sample_data,statistic,col,cond=lambda x: x):\n",
    "    # YOUR CODE HERE\n",
    "    filted = filter(cond, sample_data)\n",
    "    to_operate = []\n",
    "    for data in filted:\n",
    "        to_operate.append(data[col])\n",
    "    return statistic(to_operate)\n",
    "    \n",
    "    # raise NotImplementedError()"
   ]
  },
  {
   "cell_type": "code",
   "execution_count": 31,
   "metadata": {
    "deletable": false,
    "editable": false,
    "nbgrader": {
     "cell_type": "code",
     "checksum": "31c7cb6db88d4e94157f2afaa986cf0a",
     "grade": true,
     "grade_id": "prob4_public_test1",
     "locked": true,
     "points": 0.25,
     "schema_version": 3,
     "solution": false,
     "task": false
    },
    "tags": []
   },
   "outputs": [],
   "source": [
    "import statistics\n",
    "sample_data = [(\"John Smith\",\"M\", 430000), \n",
    "(\"Jill Smythe\",\"F\", 250000), \n",
    "(\"Qing Sheng\",\"F\", 323122), \n",
    "(\"Abhishek Malhotra\",\"M\", 782122),\n",
    "(\"Pablo Balsera\",\"M\",  600233), (\"Overbrook Bha\",\"M\", 134112), \n",
    "(\"Lidiya Guriyeva\",\"F\", 430000), \n",
    "(\"Cynthia Murphy\",\"F\", 430000),]\n",
    "\n",
    "# Test case 1\n",
    "assert summary_stats(sample_data,statistics.mean,2,lambda x: x[1]==\"F\") == 358280.5, summary_stats(sample_data,statistics.mean,2,lambda x: x[1]==\"F\")"
   ]
  },
  {
   "cell_type": "code",
   "execution_count": 32,
   "metadata": {
    "deletable": false,
    "editable": false,
    "nbgrader": {
     "cell_type": "code",
     "checksum": "4f4540a341ed2e03fedd2f14a3f3fddf",
     "grade": true,
     "grade_id": "prob4_public_test2",
     "locked": true,
     "points": 0.25,
     "schema_version": 3,
     "solution": false,
     "task": false
    },
    "tags": []
   },
   "outputs": [],
   "source": [
    "# Test case 2\n",
    "assert summary_stats(sample_data,min,2) == 134112, summary_stats(sample_data,min,2)"
   ]
  },
  {
   "cell_type": "code",
   "execution_count": null,
   "metadata": {},
   "outputs": [],
   "source": []
  }
 ],
 "metadata": {
  "kernelspec": {
   "display_name": "Python 3.9.12 ('base')",
   "language": "python",
   "name": "python3"
  },
  "language_info": {
   "codemirror_mode": {
    "name": "ipython",
    "version": 3
   },
   "file_extension": ".py",
   "mimetype": "text/x-python",
   "name": "python",
   "nbconvert_exporter": "python",
   "pygments_lexer": "ipython3",
   "version": "3.9.12"
  },
  "toc": {
   "base_numbering": 1,
   "nav_menu": {},
   "number_sections": true,
   "sideBar": true,
   "skip_h1_title": false,
   "title_cell": "Table of Contents",
   "title_sidebar": "Contents",
   "toc_cell": false,
   "toc_position": {},
   "toc_section_display": true,
   "toc_window_display": false
  },
  "vscode": {
   "interpreter": {
    "hash": "e2ad4952f491032d71626255937cf2715f7899e712ce34d34f8ad00db942d78f"
   }
  }
 },
 "nbformat": 4,
 "nbformat_minor": 4
}
