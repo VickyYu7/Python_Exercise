{
 "cells": [
  {
   "cell_type": "code",
   "execution_count": 37,
   "metadata": {},
   "outputs": [],
   "source": [
    "def sumvalue(*args) -> 'number' :\n",
    "    '''\n",
    "    return sum of any value\n",
    "    '''\n",
    "    i = 0\n",
    "    for k in args:\n",
    "        i += k\n",
    "    return i"
   ]
  },
  {
   "cell_type": "code",
   "execution_count": 38,
   "metadata": {},
   "outputs": [
    {
     "ename": "TypeError",
     "evalue": "unsupported operand type(s) for +=: 'int' and 'tuple'",
     "output_type": "error",
     "traceback": [
      "\u001b[1;31m---------------------------------------------------------------------------\u001b[0m",
      "\u001b[1;31mTypeError\u001b[0m                                 Traceback (most recent call last)",
      "\u001b[1;32md:\\workspace\\python\\bootcamp1.ipynb Cell 2\u001b[0m in \u001b[0;36m<cell line: 1>\u001b[1;34m()\u001b[0m\n\u001b[1;32m----> <a href='vscode-notebook-cell:/d%3A/workspace/python/bootcamp1.ipynb#W1sZmlsZQ%3D%3D?line=0'>1</a>\u001b[0m sumvalue((\u001b[39m1\u001b[39;49m,\u001b[39m2\u001b[39;49m,\u001b[39m3\u001b[39;49m,\u001b[39m4\u001b[39;49m,\u001b[39m5\u001b[39;49m))\n",
      "\u001b[1;32md:\\workspace\\python\\bootcamp1.ipynb Cell 2\u001b[0m in \u001b[0;36msumvalue\u001b[1;34m(*args)\u001b[0m\n\u001b[0;32m      <a href='vscode-notebook-cell:/d%3A/workspace/python/bootcamp1.ipynb#W1sZmlsZQ%3D%3D?line=4'>5</a>\u001b[0m i \u001b[39m=\u001b[39m \u001b[39m0\u001b[39m\n\u001b[0;32m      <a href='vscode-notebook-cell:/d%3A/workspace/python/bootcamp1.ipynb#W1sZmlsZQ%3D%3D?line=5'>6</a>\u001b[0m \u001b[39mfor\u001b[39;00m k \u001b[39min\u001b[39;00m args:\n\u001b[1;32m----> <a href='vscode-notebook-cell:/d%3A/workspace/python/bootcamp1.ipynb#W1sZmlsZQ%3D%3D?line=6'>7</a>\u001b[0m     i \u001b[39m+\u001b[39m\u001b[39m=\u001b[39m k\n\u001b[0;32m      <a href='vscode-notebook-cell:/d%3A/workspace/python/bootcamp1.ipynb#W1sZmlsZQ%3D%3D?line=7'>8</a>\u001b[0m \u001b[39mreturn\u001b[39;00m i\n",
      "\u001b[1;31mTypeError\u001b[0m: unsupported operand type(s) for +=: 'int' and 'tuple'"
     ]
    }
   ],
   "source": [
    "sumvalue((1,2,3,4,5))"
   ]
  },
  {
   "cell_type": "code",
   "execution_count": 15,
   "metadata": {},
   "outputs": [],
   "source": [
    "# default parameter: keyword argument\n",
    "def sumvalue(args) -> 'number' :\n",
    "    '''\n",
    "    return sum of any value\n",
    "    '''\n",
    "    i = 0\n",
    "    for k in args:\n",
    "        i += k\n",
    "    return i\n",
    "\n",
    "def sum_(args, agg=sumvalue) -> 'number':\n",
    "    return agg(args)"
   ]
  },
  {
   "cell_type": "code",
   "execution_count": 16,
   "metadata": {},
   "outputs": [
    {
     "data": {
      "text/plain": [
       "15"
      ]
     },
     "execution_count": 16,
     "metadata": {},
     "output_type": "execute_result"
    }
   ],
   "source": [
    "sum_((1,2,3,4,5))"
   ]
  },
  {
   "cell_type": "code",
   "execution_count": 20,
   "metadata": {},
   "outputs": [
    {
     "data": {
      "text/plain": [
       "5"
      ]
     },
     "execution_count": 20,
     "metadata": {},
     "output_type": "execute_result"
    }
   ],
   "source": [
    "(lambda a,b: a+b)(2,3)"
   ]
  },
  {
   "cell_type": "code",
   "execution_count": 21,
   "metadata": {},
   "outputs": [
    {
     "data": {
      "text/plain": [
       "<map at 0x267663ac940>"
      ]
     },
     "execution_count": 21,
     "metadata": {},
     "output_type": "execute_result"
    }
   ],
   "source": [
    "map(lambda x: x ** 2, [1,2,3])"
   ]
  },
  {
   "cell_type": "code",
   "execution_count": 22,
   "metadata": {},
   "outputs": [
    {
     "name": "stdout",
     "output_type": "stream",
     "text": [
      "[1, 4, 9]\n"
     ]
    }
   ],
   "source": [
    "print(list(map(lambda x: x ** 2, [1,2,3])))"
   ]
  },
  {
   "cell_type": "code",
   "execution_count": 39,
   "metadata": {},
   "outputs": [
    {
     "ename": "TypeError",
     "evalue": "unsupported operand type(s) for +: 'int' and 'tuple'",
     "output_type": "error",
     "traceback": [
      "\u001b[1;31m---------------------------------------------------------------------------\u001b[0m",
      "\u001b[1;31mTypeError\u001b[0m                                 Traceback (most recent call last)",
      "\u001b[1;32md:\\workspace\\python\\bootcamp1.ipynb Cell 8\u001b[0m in \u001b[0;36m<cell line: 2>\u001b[1;34m()\u001b[0m\n\u001b[0;32m      <a href='vscode-notebook-cell:/d%3A/workspace/python/bootcamp1.ipynb#X11sZmlsZQ%3D%3D?line=0'>1</a>\u001b[0m vals \u001b[39m=\u001b[39m ((\u001b[39m1\u001b[39m,\u001b[39m2\u001b[39m,\u001b[39m3\u001b[39m),(\u001b[39m4\u001b[39m,\u001b[39m5\u001b[39m,\u001b[39m6\u001b[39m))\n\u001b[1;32m----> <a href='vscode-notebook-cell:/d%3A/workspace/python/bootcamp1.ipynb#X11sZmlsZQ%3D%3D?line=1'>2</a>\u001b[0m \u001b[39mlist\u001b[39;49m(\u001b[39mmap\u001b[39;49m(\u001b[39mlambda\u001b[39;49;00m \u001b[39m*\u001b[39;49margs: \u001b[39msum\u001b[39;49m(args), vals))\n",
      "\u001b[1;32md:\\workspace\\python\\bootcamp1.ipynb Cell 8\u001b[0m in \u001b[0;36m<lambda>\u001b[1;34m(*args)\u001b[0m\n\u001b[0;32m      <a href='vscode-notebook-cell:/d%3A/workspace/python/bootcamp1.ipynb#X11sZmlsZQ%3D%3D?line=0'>1</a>\u001b[0m vals \u001b[39m=\u001b[39m ((\u001b[39m1\u001b[39m,\u001b[39m2\u001b[39m,\u001b[39m3\u001b[39m),(\u001b[39m4\u001b[39m,\u001b[39m5\u001b[39m,\u001b[39m6\u001b[39m))\n\u001b[1;32m----> <a href='vscode-notebook-cell:/d%3A/workspace/python/bootcamp1.ipynb#X11sZmlsZQ%3D%3D?line=1'>2</a>\u001b[0m \u001b[39mlist\u001b[39m(\u001b[39mmap\u001b[39m(\u001b[39mlambda\u001b[39;00m \u001b[39m*\u001b[39margs: \u001b[39msum\u001b[39;49m(args), vals))\n",
      "\u001b[1;31mTypeError\u001b[0m: unsupported operand type(s) for +: 'int' and 'tuple'"
     ]
    }
   ],
   "source": [
    "vals = ((1,2,3),(4,5,6))\n",
    "list(map(lambda *args: sum(args), vals))"
   ]
  },
  {
   "cell_type": "code",
   "execution_count": 29,
   "metadata": {},
   "outputs": [
    {
     "data": {
      "text/plain": [
       "9"
      ]
     },
     "execution_count": 29,
     "metadata": {},
     "output_type": "execute_result"
    }
   ],
   "source": [
    "(lambda *args: sum(args))(2,3,4)"
   ]
  },
  {
   "cell_type": "code",
   "execution_count": 32,
   "metadata": {},
   "outputs": [],
   "source": [
    "def allow_only_odds(iterable):\n",
    "    return [itr for itr in iterable if itr % 2]"
   ]
  },
  {
   "cell_type": "code",
   "execution_count": 33,
   "metadata": {},
   "outputs": [
    {
     "data": {
      "text/plain": [
       "[1, 3, 5]"
      ]
     },
     "execution_count": 33,
     "metadata": {},
     "output_type": "execute_result"
    }
   ],
   "source": [
    "allow_only_odds((1,2,3,4,5))"
   ]
  },
  {
   "cell_type": "code",
   "execution_count": 41,
   "metadata": {},
   "outputs": [
    {
     "name": "stdout",
     "output_type": "stream",
     "text": [
      "['Hi', 'Hi', 'Hi']\n",
      "None\n"
     ]
    }
   ],
   "source": [
    "def afunc(list_): # pass in mutable things\n",
    "\tlist_.append('Hi')\n",
    "l = []\n",
    "afunc(l)\n",
    "afunc(l)\n",
    "afunc(l)\n",
    "print(l)\n",
    "\n",
    "l = afunc(l)\n",
    "print(l)"
   ]
  },
  {
   "cell_type": "code",
   "execution_count": 42,
   "metadata": {},
   "outputs": [
    {
     "name": "stdout",
     "output_type": "stream",
     "text": [
      "[]\n"
     ]
    }
   ],
   "source": [
    "def afunc(list_):\n",
    "\tinternal_list = list(list_) \n",
    "# casting list to a list will make a copy, 如果只是internal_list = list_不起作用，两个variable指向同一个memory罢了\n",
    "\tinternal_list.append('Hi')\n",
    "\treturn internal_list\n",
    "l = []\n",
    "afunc(l)\n",
    "afunc(l)\n",
    "afunc(l)\n",
    "\n",
    "print(l)"
   ]
  },
  {
   "cell_type": "code",
   "execution_count": 43,
   "metadata": {},
   "outputs": [
    {
     "name": "stdout",
     "output_type": "stream",
     "text": [
      "['Hi']\n"
     ]
    }
   ],
   "source": [
    "def afunc(list_ = []): # not a pure function\n",
    "\tlist_.append('Hi') # this will updat the list bound to the function\n",
    "\treturn list_\n",
    "print(afunc())"
   ]
  },
  {
   "cell_type": "code",
   "execution_count": 44,
   "metadata": {},
   "outputs": [
    {
     "name": "stdout",
     "output_type": "stream",
     "text": [
      "['Hi', 'Hi']\n"
     ]
    }
   ],
   "source": [
    "print(afunc())"
   ]
  },
  {
   "cell_type": "code",
   "execution_count": 45,
   "metadata": {},
   "outputs": [
    {
     "name": "stdout",
     "output_type": "stream",
     "text": [
      "['Hi', 'Hi', 'Hi']\n"
     ]
    }
   ],
   "source": [
    "print(afunc())"
   ]
  },
  {
   "cell_type": "code",
   "execution_count": 47,
   "metadata": {},
   "outputs": [
    {
     "name": "stdout",
     "output_type": "stream",
     "text": [
      "['Hi']\n"
     ]
    }
   ],
   "source": [
    "def afunc(list_ = None): # make argument immutable\n",
    "\tinternal_list = list_ or []\n",
    "\tinternal_list = list(internal_list)\n",
    "\tinternal_list.append('Hi')\n",
    "\treturn internal_list\n",
    "\n",
    "print(afunc())"
   ]
  },
  {
   "cell_type": "code",
   "execution_count": 48,
   "metadata": {},
   "outputs": [
    {
     "name": "stdout",
     "output_type": "stream",
     "text": [
      "['Hi']\n"
     ]
    }
   ],
   "source": [
    "print(afunc())"
   ]
  },
  {
   "cell_type": "code",
   "execution_count": 49,
   "metadata": {},
   "outputs": [
    {
     "data": {
      "text/plain": [
       "[]"
      ]
     },
     "execution_count": 49,
     "metadata": {},
     "output_type": "execute_result"
    }
   ],
   "source": [
    "None or []"
   ]
  }
 ],
 "metadata": {
  "kernelspec": {
   "display_name": "Python 3.9.12 ('base')",
   "language": "python",
   "name": "python3"
  },
  "language_info": {
   "codemirror_mode": {
    "name": "ipython",
    "version": 3
   },
   "file_extension": ".py",
   "mimetype": "text/x-python",
   "name": "python",
   "nbconvert_exporter": "python",
   "pygments_lexer": "ipython3",
   "version": "3.9.12"
  },
  "orig_nbformat": 4,
  "vscode": {
   "interpreter": {
    "hash": "e2ad4952f491032d71626255937cf2715f7899e712ce34d34f8ad00db942d78f"
   }
  }
 },
 "nbformat": 4,
 "nbformat_minor": 2
}
