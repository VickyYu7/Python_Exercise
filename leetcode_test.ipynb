{
 "cells": [
  {
   "cell_type": "code",
   "execution_count": 1,
   "metadata": {},
   "outputs": [
    {
     "data": {
      "text/plain": [
       "3"
      ]
     },
     "execution_count": 1,
     "metadata": {},
     "output_type": "execute_result"
    }
   ],
   "source": [
    "l1 = [2,4,3]\n",
    "l1.pop()"
   ]
  },
  {
   "cell_type": "code",
   "execution_count": 2,
   "metadata": {},
   "outputs": [
    {
     "data": {
      "text/plain": [
       "[2, 4]"
      ]
     },
     "execution_count": 2,
     "metadata": {},
     "output_type": "execute_result"
    }
   ],
   "source": [
    "l1"
   ]
  },
  {
   "cell_type": "code",
   "execution_count": 2,
   "metadata": {},
   "outputs": [],
   "source": [
    "def minWindow(self, s: 'str', t: 'str') -> 'str':\n",
    "        from collections import defaultdict\n",
    "        lookup = defaultdict(int)\n",
    "        for c in t: # for every character in t, count the number of appearance\n",
    "            lookup[c] += 1\n",
    "        start = 0\n",
    "        end = 0\n",
    "        min_len = float(\"inf\")\n",
    "        counter = len(t)\n",
    "        res = \"\"\n",
    "        while end < len(s):\n",
    "            if lookup[s[end]] > 0:\n",
    "                counter -= 1\n",
    "            lookup[s[end]] -= 1\n",
    "            end += 1\n",
    "            while counter == 0:\n",
    "                if min_len > end - start:\n",
    "                    min_len = end - start\n",
    "                    res = s[start:end]\n",
    "                if lookup[s[start]] == 0:\n",
    "                    counter += 1\n",
    "                lookup[s[start]] += 1\n",
    "                start += 1\n",
    "        return res"
   ]
  },
  {
   "cell_type": "code",
   "execution_count": 2,
   "metadata": {},
   "outputs": [
    {
     "data": {
      "text/plain": [
       "defaultdict(int, {})"
      ]
     },
     "execution_count": 2,
     "metadata": {},
     "output_type": "execute_result"
    }
   ],
   "source": [
    "from collections import defaultdict\n",
    "lookup = defaultdict(int)\n",
    "lookup"
   ]
  }
 ],
 "metadata": {
  "kernelspec": {
   "display_name": "Python 3.9.12 ('base')",
   "language": "python",
   "name": "python3"
  },
  "language_info": {
   "codemirror_mode": {
    "name": "ipython",
    "version": 3
   },
   "file_extension": ".py",
   "mimetype": "text/x-python",
   "name": "python",
   "nbconvert_exporter": "python",
   "pygments_lexer": "ipython3",
   "version": "3.9.12"
  },
  "orig_nbformat": 4,
  "vscode": {
   "interpreter": {
    "hash": "e2ad4952f491032d71626255937cf2715f7899e712ce34d34f8ad00db942d78f"
   }
  }
 },
 "nbformat": 4,
 "nbformat_minor": 2
}
