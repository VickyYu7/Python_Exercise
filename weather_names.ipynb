{
 "cells": [
  {
   "cell_type": "code",
   "execution_count": null,
   "metadata": {},
   "outputs": [],
   "source": [
    "import csv\n",
    "\n",
    "with open('trees.csv') as f1:\n",
    "    csv.reader(f1)"
   ]
  },
  {
   "cell_type": "code",
   "execution_count": null,
   "metadata": {},
   "outputs": [],
   "source": [
    "with open('trees.csv') as f1:\n",
    "    for row in f1:\n",
    "        print(row)"
   ]
  },
  {
   "cell_type": "code",
   "execution_count": null,
   "metadata": {},
   "outputs": [],
   "source": [
    "with open('trees.csv') as f1:\n",
    "    rows = list(csv.reader(f1))\n",
    "\n",
    "for key, value in rows:\n",
    "    value.strip()\n",
    "\n",
    "name_by_species_name = {t[1].strip(): t[0].strip() for t in rows}"
   ]
  },
  {
   "cell_type": "code",
   "execution_count": null,
   "metadata": {},
   "outputs": [],
   "source": [
    "with open('weather.csv') as f2:\n",
    "    \n",
    "    rows = list(csv.reader(f2))\n",
    "    \n",
    "weather_by_species_name = {t[0].strip(): t[1].strip() for t in rows}\n",
    "\n",
    "weather_by_species_name"
   ]
  },
  {
   "cell_type": "code",
   "execution_count": null,
   "metadata": {},
   "outputs": [],
   "source": [
    "new_csv_data = []\n",
    "\n",
    "for sn,w in weather_by_species_name.items():\n",
    "    if sn in name_by_species_name:\n",
    "        n = name_by_species_name[sn]\n",
    "\n",
    "    new_csv_data.append((n,w))\n",
    "\n",
    "new_csv_data"
   ]
  },
  {
   "cell_type": "code",
   "execution_count": 3,
   "metadata": {},
   "outputs": [
    {
     "data": {
      "text/plain": [
       "{'species name 1': 'name 1',\n",
       " 'species name 2': 'name 2',\n",
       " 'species name 3': 'name 3',\n",
       " 'species name 4': 'name 4',\n",
       " 'species name 5': 'name 5'}"
      ]
     },
     "execution_count": 3,
     "metadata": {},
     "output_type": "execute_result"
    }
   ],
   "source": [
    "import csv\n",
    "with open('trees.csv') as f1:\n",
    "    rows = list(csv.reader(f1))\n",
    "\n",
    "for key, value in rows:\n",
    "    value.strip()\n",
    "\n",
    "name_by_species_name = {t[1].strip(): t[0].strip() for t in rows}\n",
    "\n",
    "name_by_species_name"
   ]
  },
  {
   "cell_type": "code",
   "execution_count": 4,
   "metadata": {},
   "outputs": [
    {
     "data": {
      "text/plain": [
       "{'species name 2': 'weather 2',\n",
       " 'species name 3': 'weather 3',\n",
       " 'species name 4': 'weather 4',\n",
       " 'species name 6': 'weather 6'}"
      ]
     },
     "execution_count": 4,
     "metadata": {},
     "output_type": "execute_result"
    }
   ],
   "source": [
    "with open('weather.csv') as f2:\n",
    "    \n",
    "    rows = list(csv.reader(f2))\n",
    "    \n",
    "weather_by_species_name = {t[0].strip(): t[1].strip() for t in rows}\n",
    "\n",
    "weather_by_species_name"
   ]
  },
  {
   "cell_type": "code",
   "execution_count": null,
   "metadata": {},
   "outputs": [],
   "source": [
    "with open('weather.csv') as f2:\n",
    "    \n",
    "    rows = list(f2.read())\n",
    "\n",
    "rows"
   ]
  },
  {
   "cell_type": "code",
   "execution_count": 5,
   "metadata": {},
   "outputs": [
    {
     "data": {
      "text/plain": [
       "[('name 2', 'weather 2'),\n",
       " ('name 3', 'weather 3'),\n",
       " ('name 4', 'weather 4'),\n",
       " ('name 4', 'weather 6')]"
      ]
     },
     "execution_count": 5,
     "metadata": {},
     "output_type": "execute_result"
    }
   ],
   "source": [
    "new_csv_data = []\n",
    "\n",
    "for sn,w in weather_by_species_name.items():\n",
    "    if sn in name_by_species_name:\n",
    "        n = name_by_species_name[sn]\n",
    "    new_csv_data.append((n,w))\n",
    "\n",
    "new_csv_data"
   ]
  },
  {
   "cell_type": "code",
   "execution_count": 7,
   "metadata": {},
   "outputs": [
    {
     "data": {
      "text/plain": [
       "[('name 2', 'weather 2'), ('name 3', 'weather 3'), ('name 4', 'weather 4')]"
      ]
     },
     "execution_count": 7,
     "metadata": {},
     "output_type": "execute_result"
    }
   ],
   "source": [
    "new_csv_data = []\n",
    "\n",
    "for sn,w in weather_by_species_name.items():\n",
    "    n = name_by_species_name.get(sn)\n",
    "    if n:\n",
    "        new_csv_data.append((n,w))\n",
    "\n",
    "new_csv_data"
   ]
  }
 ],
 "metadata": {
  "kernelspec": {
   "display_name": "Python 3.9.12 ('base')",
   "language": "python",
   "name": "python3"
  },
  "language_info": {
   "codemirror_mode": {
    "name": "ipython",
    "version": 3
   },
   "file_extension": ".py",
   "mimetype": "text/x-python",
   "name": "python",
   "nbconvert_exporter": "python",
   "pygments_lexer": "ipython3",
   "version": "3.9.12"
  },
  "orig_nbformat": 4,
  "vscode": {
   "interpreter": {
    "hash": "e2ad4952f491032d71626255937cf2715f7899e712ce34d34f8ad00db942d78f"
   }
  }
 },
 "nbformat": 4,
 "nbformat_minor": 2
}
